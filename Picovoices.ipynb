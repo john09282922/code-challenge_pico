{
 "cells": [
  {
   "cell_type": "raw",
   "id": "bd2a7fb1-12f2-445c-888d-cba4442d9d23",
   "metadata": {},
   "source": [
    "Q1. [Python] In order to predict rain probability in Vacouvor, I used poisson_binomial_function (probabilities, k), which calculates the probability mass function (PMF) for the Poisson binomial distribution up to 𝑘."
   ]
  },
  {
   "cell_type": "code",
   "execution_count": 7,
   "id": "f30e4faa-dcd1-4017-a38c-52ca0f0574ae",
   "metadata": {},
   "outputs": [
    {
     "name": "stdout",
     "output_type": "stream",
     "text": [
      "0.8485\n"
     ]
    }
   ],
   "source": [
    "import numpy as np\n",
    "from typing import Sequence\n",
    "\n",
    "# This definition the PMF to calculate the probability of having more than 𝑛 rainy days by summing the probabilities for all cases where the number of rainy days is greater than 𝑛.\n",
    "def prob_rain_more_than_n(p: Sequence[float], n: int, num_simulations: int = 10000) -> float:\n",
    "    # Convert the list of probabilities to a numpy array for efficiency\n",
    "    p = np.array(p)\n",
    "    \n",
    "    # Run the Monte Carlo simulation\n",
    "    rainy_days_counts = np.random.binomial(n=1, p=p, size=(num_simulations, len(p))).sum(axis=1)\n",
    "    \n",
    "    # Calculate the probability of having more than n rainy days\n",
    "    prob = np.mean(rainy_days_counts > n)\n",
    "    \n",
    "    return prob\n",
    "# I set up the random number of probability of rain\n",
    "# Example usage:\n",
    "p = [0.3] * 365  \n",
    "n = 100\n",
    "print(prob_rain_more_than_n(p, n))"
   ]
  },
  {
   "cell_type": "raw",
   "id": "ab6392d1-ad85-4e70-b6d9-3f4668b6c92c",
   "metadata": {},
   "source": [
    "Q2. [Python] This function preprocess the pronunciation dictionary into a dictionary where the keys are sequences of phonemes and the values are lists of words that match those sequences. This will allow efficiently looking up words that correspond to any given phoneme sequence. After then, It use a backtracking approach to find all the combinations of words that can produce the given sequence of phonemes."
   ]
  },
  {
   "cell_type": "code",
   "execution_count": 13,
   "id": "cf75d1c0-0b59-417d-a47e-ddfd1e02369b",
   "metadata": {},
   "outputs": [
    {
     "name": "stdout",
     "output_type": "stream",
     "text": [
      "[['THEIR', 'THEIR'], ['THEIR', 'THERE'], ['THERE', 'THEIR'], ['THERE', 'THERE']]\n"
     ]
    }
   ],
   "source": [
    "from typing import List, Tuple, Dict, Sequence\n",
    "\n",
    "# This function converts the pronunciation dictionary into a dictionary where the keys are tuples of phonemes and the values are lists of words that match those phonemes.\n",
    "def preprocess_dictionary(pronunciation_dict: List[str]) -> Dict[Tuple[str], List[str]]:\n",
    "    phoneme_to_words = {}\n",
    "    for entry in pronunciation_dict:\n",
    "        parts = entry.split()\n",
    "        word = parts[0]\n",
    "        phonemes = tuple(parts[1:])\n",
    "        if phonemes not in phoneme_to_words:\n",
    "            phoneme_to_words[phonemes] = []\n",
    "        phoneme_to_words[phonemes].append(word)\n",
    "    return phoneme_to_words\n",
    "\n",
    "# Function to find word combinations given a sequence of phonemes\n",
    "def find_word_combos_with_pronunciation(phonemes: Sequence[str]) -> List[List[str]]:\n",
    "    phoneme_to_words = preprocess_dictionary(pronunciation_dict)\n",
    "    result = []\n",
    "\n",
    "    #Use a recursive backtracking function to explore all possible ways to split the input phoneme sequence into valid words. If the current sub-sequence of phonemes (from start to end) exists in the preprocessed dictionary, it will add the corresponding words to the current path and continue the recursion.\n",
    "    def backtrack(start: int, path: List[str]):\n",
    "        if start == len(phonemes):\n",
    "            result.append(path[:])\n",
    "            return\n",
    "        for end in range(start + 1, len(phonemes) + 1):\n",
    "            sub_phonemes = tuple(phonemes[start:end])\n",
    "            if sub_phonemes in phoneme_to_words:\n",
    "                for word in phoneme_to_words[sub_phonemes]:\n",
    "                    path.append(word)\n",
    "                    backtrack(end, path)\n",
    "                    path.pop()\n",
    "\n",
    "    backtrack(0, [])\n",
    "    return result\n",
    "\n",
    "# Example pronunciation dictionary\n",
    "pronunciation_dict = [\n",
    "    \"ABACUS AE B AH K AH S\",\n",
    "    \"BOOK B UH K\",\n",
    "    \"THEIR DH EH R\",\n",
    "    \"THERE DH EH R\",\n",
    "    \"TOMATO T AH M AA T OW\",\n",
    "    \"TOMATO T AH M EY T OW\"\n",
    "]\n",
    "\n",
    "# Example usage\n",
    "phoneme_sequence = [\"DH\", \"EH\", \"R\", \"DH\", \"EH\", \"R\"]\n",
    "combinations = find_word_combos_with_pronunciation(phoneme_sequence)\n",
    "print(combinations)\n"
   ]
  },
  {
   "cell_type": "raw",
   "id": "d28eed35-62b3-4dd1-bbf2-22490de0ccda",
   "metadata": {},
   "source": [
    "I wrote C code "
   ]
  },
  {
   "cell_type": "code",
   "execution_count": null,
   "id": "378aff78-c3db-4cbe-a886-c2467e4108b3",
   "metadata": {},
   "outputs": [],
   "source": [
    "#include <stdio.h>\n",
    "#include <stdlib.h>\n",
    "#include <string.h>\n",
    "#include <ctype.h>\n",
    "#include <stdint.h>\n",
    "\n",
    "#define MAX_WORD_LEN 100\n",
    "#define MAX_WORDS 10000\n",
    "\n",
    "typedef struct {\n",
    "    char word[MAX_WORD_LEN];\n",
    "    int count;\n",
    "} WordCount;\n",
    "\n",
    "void to_lower_case(char *str) {\n",
    "    for (int i = 0; str[i]; i++) {\n",
    "        str[i] = tolower((unsigned char) str[i]);\n",
    "    }\n",
    "}\n",
    "\n",
    "int compare_counts(const void *a, const void *b) {\n",
    "    return ((WordCount *)b)->count - ((WordCount *)a)->count;\n",
    "}\n",
    "\n",
    "char **find_frequent_words(const char *path, int32_t n) {\n",
    "    FILE *file = fopen(path, \"r\");\n",
    "    if (!file) {\n",
    "        fprintf(stderr, \"Error opening file.\\n\");\n",
    "        return NULL;\n",
    "    }\n",
    "\n",
    "    WordCount word_counts[MAX_WORDS];\n",
    "    int word_count_size = 0;\n",
    "\n",
    "    char buffer[1024];\n",
    "    while (fgets(buffer, sizeof(buffer), file)) {\n",
    "        char *token = strtok(buffer, \" \\n\\t\\r.,;:!?()[]\\\"\");\n",
    "        while (token) {\n",
    "            to_lower_case(token);\n",
    "\n",
    "            int found = 0;\n",
    "            for (int i = 0; i < word_count_size; i++) {\n",
    "                if (strcmp(word_counts[i].word, token) == 0) {\n",
    "                    word_counts[i].count++;\n",
    "                    found = 1;\n",
    "                    break;\n",
    "                }\n",
    "            }\n",
    "\n",
    "            if (!found && word_count_size < MAX_WORDS) {\n",
    "                strncpy(word_counts[word_count_size].word, token, MAX_WORD_LEN - 1);\n",
    "                word_counts[word_count_size].word[MAX_WORD_LEN - 1] = '\\0';\n",
    "                word_counts[word_count_size].count = 1;\n",
    "                word_count_size++;\n",
    "            }\n",
    "\n",
    "            token = strtok(NULL, \" \\n\\t\\r.,;:!?()[]\\\"\");\n",
    "        }\n",
    "    }\n",
    "\n",
    "    fclose(file);\n",
    "\n",
    "    qsort(word_counts, word_count_size, sizeof(WordCount), compare_counts);\n",
    "\n",
    "    char **result = malloc(n * sizeof(char *));\n",
    "    for (int i = 0; i < n && i < word_count_size; i++) {\n",
    "        result[i] = strdup(word_counts[i].word);\n",
    "    }\n",
    "\n",
    "    return result;\n",
    "}\n"
   ]
  },
  {
   "cell_type": "raw",
   "id": "8d761206-eb94-4275-900d-4e2cf9cbd474",
   "metadata": {},
   "source": [
    "Main file to run "
   ]
  },
  {
   "cell_type": "raw",
   "id": "e44400a4-9539-4450-a584-92f12c2f5b26",
   "metadata": {},
   "source": [
    "int main() {\n",
    "    char **frequent_words = find_frequent_words(\"/shakespeare.txt\", 10);\n",
    "    if (frequent_words) {\n",
    "        for (int i = 0; i < 10; i++) {\n",
    "            printf(\"%s\\n\", frequent_words[i]);\n",
    "            free(frequent_words[i]);\n",
    "        }\n",
    "        free(frequent_words);\n",
    "    }\n",
    "    return 0;\n",
    "}\n"
   ]
  },
  {
   "cell_type": "raw",
   "id": "bf9e4fbf-266c-403e-a922-037f0ea53794",
   "metadata": {},
   "source": [
    "To run simply, I wrote python code as well "
   ]
  },
  {
   "cell_type": "code",
   "execution_count": 23,
   "id": "e106a7c7-596b-4f5d-aa54-937237cadff4",
   "metadata": {},
   "outputs": [
    {
     "name": "stdout",
     "output_type": "stream",
     "text": [
      "the: 6287\n",
      "and: 5690\n",
      "i: 5111\n",
      "to: 4934\n",
      "of: 3760\n",
      "you: 3211\n",
      "my: 3120\n",
      "a: 3018\n",
      "that: 2664\n",
      "in: 2403\n"
     ]
    }
   ],
   "source": [
    "import re\n",
    "from collections import Counter\n",
    "\n",
    "def find_frequent_words(path, n):\n",
    "    with open(path, 'r') as file:\n",
    "        text = file.read()\n",
    "\n",
    "    # Tokenize the text into words\n",
    "    words = re.findall(r'\\b\\w+\\b', text.lower())\n",
    "\n",
    "    # Count the frequency of each word\n",
    "    word_counts = Counter(words)\n",
    "\n",
    "    # Get the n most common words\n",
    "    most_common_words = word_counts.most_common(n)\n",
    "\n",
    "    return most_common_words\n",
    "\n",
    "# Example usage:\n",
    "path = 'shakespeare.txt'\n",
    "n = 10\n",
    "frequent_words = find_frequent_words(path, n)\n",
    "for word, count in frequent_words:\n",
    "    print(f'{word}: {count}')\n"
   ]
  },
  {
   "cell_type": "code",
   "execution_count": null,
   "id": "fd890be9-cc38-4dfe-bf9f-81ceee255dd4",
   "metadata": {},
   "outputs": [],
   "source": []
  }
 ],
 "metadata": {
  "kernelspec": {
   "display_name": "Python 3 (ipykernel)",
   "language": "python",
   "name": "python3"
  },
  "language_info": {
   "codemirror_mode": {
    "name": "ipython",
    "version": 3
   },
   "file_extension": ".py",
   "mimetype": "text/x-python",
   "name": "python",
   "nbconvert_exporter": "python",
   "pygments_lexer": "ipython3",
   "version": "3.12.4"
  }
 },
 "nbformat": 4,
 "nbformat_minor": 5
}
